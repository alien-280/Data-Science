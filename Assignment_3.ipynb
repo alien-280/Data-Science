{
 "cells": [
  {
   "cell_type": "markdown",
   "metadata": {},
   "source": [
    "# Assignment 3"
   ]
  },
  {
   "cell_type": "markdown",
   "metadata": {},
   "source": [
    "## Question 1"
   ]
  },
  {
   "cell_type": "markdown",
   "metadata": {},
   "source": [
    "Create a numpy array starting from 2 till 50 with a stepsize of 3."
   ]
  },
  {
   "cell_type": "markdown",
   "metadata": {},
   "source": [
    "## Answer"
   ]
  },
  {
   "cell_type": "code",
   "execution_count": 3,
   "metadata": {},
   "outputs": [
    {
     "name": "stdout",
     "output_type": "stream",
     "text": [
      "[ 2  5  8 11 14 17 20 23 26 29 32 35 38 41 44 47]\n"
     ]
    }
   ],
   "source": [
    "import numpy as np\n",
    "\n",
    "arr = np.arange(2, 50, 3)\n",
    "\n",
    "print(arr)"
   ]
  },
  {
   "cell_type": "markdown",
   "metadata": {},
   "source": [
    "## Question 2"
   ]
  },
  {
   "cell_type": "markdown",
   "metadata": {},
   "source": [
    "Accept two lists of 5 elements each from the user.\n",
    "Convert them to numpy arrays. Concatenate these arrays and print it. Also sort these arrays and print it."
   ]
  },
  {
   "cell_type": "markdown",
   "metadata": {},
   "source": [
    "## Answer"
   ]
  },
  {
   "cell_type": "code",
   "execution_count": 8,
   "metadata": {},
   "outputs": [
    {
     "name": "stdout",
     "output_type": "stream",
     "text": [
      "Enter the values of List 1 :1\n",
      "Enter the values of List 1 :3\n",
      "Enter the values of List 1 :5\n",
      "Enter the values of List 1 :7\n",
      "Enter the values of List 1 :9\n",
      "Enter the values of List 2 :2\n",
      "Enter the values of List 2 :4\n",
      "Enter the values of List 2 :6\n",
      "Enter the values of List 2 :8\n",
      "Enter the values of List 2 :10\n",
      " \n",
      "Concatenated Array:  [ 1  3  5  7  9  2  4  6  8 10]\n",
      " \n",
      "Sorted Array:  [ 1  2  3  4  5  6  7  8  9 10]\n"
     ]
    }
   ],
   "source": [
    "import numpy as np\n",
    "\n",
    "list1 = list()\n",
    "list2 = list()\n",
    "\n",
    "for i in range(5):\n",
    "    inp1 = int(input(\"Enter the values of List 1 :\"))\n",
    "    list1.append(inp1)\n",
    "for i in range(5):\n",
    "    inp2 = int(input(\"Enter the values of List 2 :\"))\n",
    "    list2.append(inp2)\n",
    "    \n",
    "arr1 = np.array(list1)\n",
    "arr2 = np.array(list2)\n",
    "\n",
    "arr = np.concatenate((arr1, arr2))\n",
    "\n",
    "sorted_arr = np.sort(arr)\n",
    "\n",
    "print(\" \")\n",
    "print(\"Concatenated Array: \",arr)\n",
    "print(\" \")\n",
    "print(\"Sorted Array: \",sorted_arr)"
   ]
  },
  {
   "cell_type": "markdown",
   "metadata": {},
   "source": [
    "## Question 3"
   ]
  },
  {
   "cell_type": "markdown",
   "metadata": {},
   "source": [
    "Write a code snippet to find the dimensions of a ndarray and its size."
   ]
  },
  {
   "cell_type": "markdown",
   "metadata": {},
   "source": [
    "## Answer"
   ]
  },
  {
   "cell_type": "code",
   "execution_count": 18,
   "metadata": {},
   "outputs": [
    {
     "name": "stdout",
     "output_type": "stream",
     "text": [
      "[[1 2 3]\n",
      " [4 5 6]\n",
      " [7 8 9]]\n",
      "\n",
      "Dimension of Array is:  2\n",
      "\n",
      "Size of Array is:  9\n"
     ]
    }
   ],
   "source": [
    "import numpy as np\n",
    "\n",
    "arr = np.array([[1,2,3],[4,5,6],[7,8,9]])\n",
    "\n",
    "print(arr)\n",
    "print(\"\\nDimension of Array is: \",arr.ndim)\n",
    "print(\"\\nSize of Array is: \",arr.size)\n",
    "\n",
    "# To find Dimension of Array use Array_Name.ndim\n",
    "# To find Size of Array use Array_Name.size"
   ]
  },
  {
   "cell_type": "markdown",
   "metadata": {},
   "source": [
    "## Question 4"
   ]
  },
  {
   "cell_type": "markdown",
   "metadata": {},
   "source": [
    "How to convert a 1D array into a 2D array? Demonstrate with the help of a code snippet\n",
    "Hint: np.newaxis, np.expand_dims"
   ]
  },
  {
   "cell_type": "markdown",
   "metadata": {},
   "source": [
    "## Answer "
   ]
  },
  {
   "cell_type": "code",
   "execution_count": 8,
   "metadata": {},
   "outputs": [
    {
     "name": "stdout",
     "output_type": "stream",
     "text": [
      "[1 2 3 4 5 6 7 8 9]\n",
      "Dimension of 1st array : 1\n",
      "Shape of 1st array : (9,)\n",
      " \n",
      "[[1]\n",
      " [2]\n",
      " [3]\n",
      " [4]\n",
      " [5]\n",
      " [6]\n",
      " [7]\n",
      " [8]\n",
      " [9]]\n",
      "Dimension of 2nd array : 2\n",
      "Shape of 2nd array : (9, 1)\n"
     ]
    }
   ],
   "source": [
    "import numpy as np\n",
    "\n",
    "a_1d = np.array([1,2,3,4,5,6,7,8,9])\n",
    "a_2d = a_1d[:,np.newaxis]\n",
    "\n",
    "print(a_1d)\n",
    "print(\"Dimension of 1st array :\",a_1d.ndim)\n",
    "print(\"Shape of 1st array :\",a_1d.shape)\n",
    "print(\" \")\n",
    "print(a_2d)\n",
    "print(\"Dimension of 2nd array :\",a_2d.ndim)\n",
    "print(\"Shape of 2nd array :\",a_2d.shape)"
   ]
  },
  {
   "cell_type": "markdown",
   "metadata": {},
   "source": [
    "## Question 5"
   ]
  },
  {
   "cell_type": "markdown",
   "metadata": {},
   "source": [
    "Consider two square numpy arrays. Stack them vertically and horizontally.\n",
    "Hint: Use vstack(), hstack()"
   ]
  },
  {
   "cell_type": "markdown",
   "metadata": {},
   "source": [
    "## Answer"
   ]
  },
  {
   "cell_type": "code",
   "execution_count": 12,
   "metadata": {},
   "outputs": [
    {
     "name": "stdout",
     "output_type": "stream",
     "text": [
      "1st array\n",
      "[[10 20]\n",
      " [30 40]]\n",
      " \n",
      "2nd array\n",
      "[[50 60]\n",
      " [70 80]]\n",
      " \n",
      "Horizontal Stack: \n",
      "[[10 20 50 60]\n",
      " [30 40 70 80]]\n",
      " \n",
      "Vertical Stack: \n",
      "[[10 20]\n",
      " [30 40]\n",
      " [50 60]\n",
      " [70 80]]\n"
     ]
    }
   ],
   "source": [
    "arr1 = np.array([[10,20],[30,40]])\n",
    "arr2 = np.array([[50,60],[70,80]])\n",
    "\n",
    "ver = np.vstack((arr1,arr2))\n",
    "hor = np.hstack((arr1,arr2))\n",
    "\n",
    "print(\"1st array\")\n",
    "print(arr1)\n",
    "print(\" \")\n",
    "print(\"2nd array\")\n",
    "print(arr2)\n",
    "print(\" \")\n",
    "print(\"Horizontal Stack: \")\n",
    "print(hor)\n",
    "print(\" \")\n",
    "print(\"Vertical Stack: \")\n",
    "print(ver)"
   ]
  },
  {
   "cell_type": "markdown",
   "metadata": {},
   "source": [
    "## Question 6"
   ]
  },
  {
   "cell_type": "markdown",
   "metadata": {},
   "source": [
    "How to get unique items and counts of unique items?"
   ]
  },
  {
   "cell_type": "markdown",
   "metadata": {},
   "source": [
    "## Answer"
   ]
  },
  {
   "cell_type": "code",
   "execution_count": 16,
   "metadata": {},
   "outputs": [
    {
     "name": "stdout",
     "output_type": "stream",
     "text": [
      "Array             : [1 2 3 4 5 6 7 8 9 9 8 7 6 5 4 3 2 1 1 3 5 7 9 1 3 5 7 9]\n",
      "Unique Items      : [1 2 3 4 5 6 7 8 9]\n",
      "Unique Items Count: [4 2 4 2 4 2 4 2 4]\n"
     ]
    }
   ],
   "source": [
    "arr = np.array([1,2,3,4,5,6,7,8,9,9,8,7,6,5,4,3,2,1,1,3,5,7,9,1,3,5,7,9])\n",
    "unique, count = np.unique(arr, return_counts = True)\n",
    "\n",
    "print(\"Array             :\",arr)\n",
    "print(\"Unique Items      :\",unique)\n",
    "print(\"Unique Items Count:\",count)"
   ]
  }
 ],
 "metadata": {
  "kernelspec": {
   "display_name": "Python 3",
   "language": "python",
   "name": "python3"
  },
  "language_info": {
   "codemirror_mode": {
    "name": "ipython",
    "version": 3
   },
   "file_extension": ".py",
   "mimetype": "text/x-python",
   "name": "python",
   "nbconvert_exporter": "python",
   "pygments_lexer": "ipython3",
   "version": "3.8.3"
  }
 },
 "nbformat": 4,
 "nbformat_minor": 4
}
